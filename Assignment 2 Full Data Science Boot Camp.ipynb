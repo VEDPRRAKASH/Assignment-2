{
 "cells": [
  {
   "cell_type": "code",
   "execution_count": 1,
   "id": "3ab9ce93",
   "metadata": {},
   "outputs": [],
   "source": [
    "#q1: What are the two values of the Boolean data type? How do you write them?\n",
    "# The two values of the boolean data type are: true and false. The values are written as True and False."
   ]
  },
  {
   "cell_type": "code",
   "execution_count": 2,
   "id": "177ad84c",
   "metadata": {},
   "outputs": [],
   "source": [
    "#q2: What are the three different types of Boolean operators?\n",
    "# The three differnt types of Boolean operators are: a) and; b) or; c)and not"
   ]
  },
  {
   "cell_type": "code",
   "execution_count": 3,
   "id": "6bf65c8c",
   "metadata": {},
   "outputs": [],
   "source": [
    "#q3: Make a list of each Boolean operator's truth tables (i.e. every possible combination of Boolean values for the operator and what it evaluate).\n",
    "# False or False = False         False and False = False         False and not False = False\n",
    "# False or True = True           False and True = False          False and not True = False\n",
    "# True or False = True           True and False = False          True and not False = True\n",
    "# True or True = True            True and True = True            True and not True = False"
   ]
  },
  {
   "cell_type": "code",
   "execution_count": 4,
   "id": "c9b4da09",
   "metadata": {},
   "outputs": [],
   "source": [
    "#q4: What are the values of the following expressions?\n",
    "# a) (5>4) and (3 == 5)\n",
    "# b) not (5>4)\n",
    "# c) (5>4) or (3 == 5)\n",
    "# d) not ((5>4) or (3 == 5))\n",
    "# e) (True and True) and (True == False)\n",
    "# f) (not False) or (not True)"
   ]
  },
  {
   "cell_type": "code",
   "execution_count": 5,
   "id": "f9f276fc",
   "metadata": {},
   "outputs": [
    {
     "data": {
      "text/plain": [
       "False"
      ]
     },
     "execution_count": 5,
     "metadata": {},
     "output_type": "execute_result"
    }
   ],
   "source": [
    "#q4 a)\n",
    "(5>4) and (3==5)"
   ]
  },
  {
   "cell_type": "code",
   "execution_count": 6,
   "id": "49482ffd",
   "metadata": {},
   "outputs": [
    {
     "data": {
      "text/plain": [
       "False"
      ]
     },
     "execution_count": 6,
     "metadata": {},
     "output_type": "execute_result"
    }
   ],
   "source": [
    "#q4 b) \n",
    "not (5>4)"
   ]
  },
  {
   "cell_type": "code",
   "execution_count": 7,
   "id": "c139f418",
   "metadata": {},
   "outputs": [
    {
     "data": {
      "text/plain": [
       "True"
      ]
     },
     "execution_count": 7,
     "metadata": {},
     "output_type": "execute_result"
    }
   ],
   "source": [
    "#q4 c)\n",
    "(5>4) or (3==5)"
   ]
  },
  {
   "cell_type": "code",
   "execution_count": 8,
   "id": "244bd4e2",
   "metadata": {},
   "outputs": [
    {
     "data": {
      "text/plain": [
       "False"
      ]
     },
     "execution_count": 8,
     "metadata": {},
     "output_type": "execute_result"
    }
   ],
   "source": [
    "#q4 d)\n",
    "not ((5>4) or (3==5))"
   ]
  },
  {
   "cell_type": "code",
   "execution_count": 9,
   "id": "671191b2",
   "metadata": {},
   "outputs": [
    {
     "data": {
      "text/plain": [
       "False"
      ]
     },
     "execution_count": 9,
     "metadata": {},
     "output_type": "execute_result"
    }
   ],
   "source": [
    "#q4 e)\n",
    "(True and True) and (True==False)"
   ]
  },
  {
   "cell_type": "code",
   "execution_count": 10,
   "id": "aa4a6384",
   "metadata": {},
   "outputs": [
    {
     "data": {
      "text/plain": [
       "True"
      ]
     },
     "execution_count": 10,
     "metadata": {},
     "output_type": "execute_result"
    }
   ],
   "source": [
    "#q4 f)\n",
    "(not False) or (not True)"
   ]
  },
  {
   "cell_type": "code",
   "execution_count": 11,
   "id": "7b8fea9b",
   "metadata": {},
   "outputs": [],
   "source": [
    "#q5: What are the six comparison operators?\n",
    "# The six comparison operators are: >, >=, <, <=, ==,!="
   ]
  },
  {
   "cell_type": "code",
   "execution_count": 12,
   "id": "625d795c",
   "metadata": {},
   "outputs": [],
   "source": [
    "#q6: How do you tell the difference between the equal to and assignment operators? Describe a condition and when you would use one.\n",
    "# '=' operator is the assignment operator which is used to assign any value to any variable.\n",
    "# '==' operator is the comparison operator which compares the left side and the right side of the operator and checks whether both are equal.\n",
    "# Example of '=' operator: a=24, here a is variable and the value 24 is assigned to the variable a.\n",
    "# Example of '==' operator: a==b, here a is compared to b if the values of both a and b are equal then the result is True and vice-versa."
   ]
  },
  {
   "cell_type": "code",
   "execution_count": 13,
   "id": "3ca319f6",
   "metadata": {},
   "outputs": [],
   "source": [
    "#q7: Identify the three blocks in this code:\n",
    "#spam = 0\n",
    "#if spam == 10:\n",
    "#print('eggs')   Block 1\n",
    "#if spam > 5:\n",
    "#print('bacon')  Block 2\n",
    "#else:\n",
    "#print('ham')    Block 3\n",
    "#print('spam')\n",
    "#print('spam')"
   ]
  },
  {
   "cell_type": "code",
   "execution_count": 14,
   "id": "917e921d",
   "metadata": {},
   "outputs": [
    {
     "name": "stdout",
     "output_type": "stream",
     "text": [
      "Insert a value to spam: 1\n",
      "Hello\n"
     ]
    }
   ],
   "source": [
    "#q8: Write code that a) prints Hello if 1 is stored in spam, b) prints Howdy if 2 is stored in spam, and c) prints Greetings! if anything else is stored in spam.\n",
    "#a)\n",
    "spam= int(input(\"Insert a value to spam: \"))\n",
    "if spam==1:\n",
    "    print(\"Hello\")\n",
    "elif spam==2:\n",
    "    print(\"Howdy\")\n",
    "else:\n",
    "    print(\"Greetings!\")"
   ]
  },
  {
   "cell_type": "code",
   "execution_count": 15,
   "id": "7ddb6351",
   "metadata": {},
   "outputs": [
    {
     "name": "stdout",
     "output_type": "stream",
     "text": [
      "Insert a value to spam: 2\n",
      "Howdy\n"
     ]
    }
   ],
   "source": [
    "#8.b) \n",
    "spam= int(input(\"Insert a value to spam: \"))\n",
    "if spam==1:\n",
    "    print(\"Hello\")\n",
    "elif spam==2:\n",
    "    print(\"Howdy\")\n",
    "else:\n",
    "    print(\"Greetings!\")"
   ]
  },
  {
   "cell_type": "code",
   "execution_count": 16,
   "id": "11de0237",
   "metadata": {},
   "outputs": [
    {
     "name": "stdout",
     "output_type": "stream",
     "text": [
      "Insert a value to spam: 3\n",
      "Greetings!\n"
     ]
    }
   ],
   "source": [
    "#8.c) \n",
    "spam= int(input(\"Insert a value to spam: \"))\n",
    "if spam==1:\n",
    "    print(\"Hello\")\n",
    "elif spam==2:\n",
    "    print(\"Howdy\")\n",
    "else:\n",
    "    print(\"Greetings!\")"
   ]
  },
  {
   "cell_type": "code",
   "execution_count": 17,
   "id": "a6b6d78c",
   "metadata": {},
   "outputs": [],
   "source": [
    "#q9: If your programme is stuck in an endless loop, what keys you’ll press?\n",
    "# If the programme is stuck in an endless loop then we can press 'ctrl+c' to interrupt the endless loop."
   ]
  },
  {
   "cell_type": "code",
   "execution_count": 18,
   "id": "0a083fcb",
   "metadata": {},
   "outputs": [],
   "source": [
    "#q10: How can you tell the difference between break and continue?\n",
    "# break: break statement terminates the current working loop and passes the control to the next statement.\n",
    "# continue: continue statement works opposite to break statement it jumps off to the next condition instead of terminating certain condition."
   ]
  },
  {
   "cell_type": "code",
   "execution_count": 19,
   "id": "ef22db66",
   "metadata": {},
   "outputs": [],
   "source": [
    "#q11: In a for loop, what is the difference between range(10), range(0, 10), and range(0, 10, 1)?\n",
    "# There is no difference between range(10), range(0,10) and range(0,10,1) in for loop."
   ]
  },
  {
   "cell_type": "code",
   "execution_count": 20,
   "id": "130efb8e",
   "metadata": {},
   "outputs": [
    {
     "name": "stdout",
     "output_type": "stream",
     "text": [
      "1\n",
      "2\n",
      "3\n",
      "4\n",
      "5\n",
      "6\n",
      "7\n",
      "8\n",
      "9\n",
      "10\n"
     ]
    }
   ],
   "source": [
    "#q12: Write a short program that prints the numbers 1 to 10 using a for loop. Then write an equivalent program that prints the numbers 1 to 10 using a while loop.\n",
    "# for loop to print 1 to 10:\n",
    "for i in range (1,11):\n",
    "    print(i)"
   ]
  },
  {
   "cell_type": "code",
   "execution_count": 21,
   "id": "dd5d565f",
   "metadata": {},
   "outputs": [
    {
     "name": "stdout",
     "output_type": "stream",
     "text": [
      "1\n",
      "2\n",
      "3\n",
      "4\n",
      "5\n",
      "6\n",
      "7\n",
      "8\n",
      "9\n",
      "10\n"
     ]
    }
   ],
   "source": [
    "#12. while loop to print 1 to 10:\n",
    "i=1\n",
    "while i<=10:\n",
    "    print(i)\n",
    "    i+=1"
   ]
  },
  {
   "cell_type": "code",
   "execution_count": 22,
   "id": "90b95a24",
   "metadata": {},
   "outputs": [],
   "source": [
    "#q13: If you had a function named bacon() inside a module named spam, how would you call it after importing spam?\n",
    "# We can call the function with spam.bacon()."
   ]
  },
  {
   "cell_type": "code",
   "execution_count": null,
   "id": "918e4f61",
   "metadata": {},
   "outputs": [],
   "source": []
  }
 ],
 "metadata": {
  "kernelspec": {
   "display_name": "Python 3 (ipykernel)",
   "language": "python",
   "name": "python3"
  },
  "language_info": {
   "codemirror_mode": {
    "name": "ipython",
    "version": 3
   },
   "file_extension": ".py",
   "mimetype": "text/x-python",
   "name": "python",
   "nbconvert_exporter": "python",
   "pygments_lexer": "ipython3",
   "version": "3.9.7"
  }
 },
 "nbformat": 4,
 "nbformat_minor": 5
}
